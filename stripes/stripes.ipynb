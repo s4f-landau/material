{
 "cells": [
  {
   "cell_type": "markdown",
   "metadata": {},
   "source": [
    "### Global warming stripes"
   ]
  },
  {
   "cell_type": "code",
   "execution_count": 1,
   "metadata": {},
   "outputs": [],
   "source": [
    "import matplotlib\n",
    "\n",
    "import pandas as pd\n",
    "import matplotlib.pyplot as plt\n",
    "\n",
    "from matplotlib.patches import Rectangle\n",
    "from matplotlib.collections import PatchCollection\n",
    "from matplotlib.colors import ListedColormap\n",
    "\n",
    "\n",
    "%matplotlib inline"
   ]
  },
  {
   "cell_type": "markdown",
   "metadata": {},
   "source": [
    "Following https://matplotlib.org/matplotblog/posts/warming-stripes/"
   ]
  },
  {
   "cell_type": "code",
   "execution_count": 2,
   "metadata": {},
   "outputs": [],
   "source": [
    "FIRST = 1850\n",
    "LAST = 2018  # inclusive\n",
    "\n",
    "# Reference period for the center of the color scale\n",
    "FIRST_REFERENCE = 1971\n",
    "LAST_REFERENCE = 2000\n",
    "LIM = 0.7 # degrees"
   ]
  },
  {
   "cell_type": "code",
   "execution_count": 3,
   "metadata": {},
   "outputs": [],
   "source": [
    "df = pd.read_fwf(\n",
    "    'HadCRUT.4.6.0.0.annual_ns_avg.txt',\n",
    "    index_col=0,\n",
    "    usecols=(0, 1),\n",
    "    names=['year', 'anomaly'],\n",
    "    header=None,\n",
    ")\n",
    "\n",
    "anomaly = df.loc[FIRST:LAST, 'anomaly'].dropna()\n",
    "reference = anomaly.loc[FIRST_REFERENCE:LAST_REFERENCE].mean()"
   ]
  },
  {
   "cell_type": "code",
   "execution_count": 4,
   "metadata": {},
   "outputs": [],
   "source": [
    "# the colors in this colormap come from http://colorbrewer2.org\n",
    "# the 8 more saturated colors from the 9 blues / 9 reds\n",
    "cmap = ListedColormap([\n",
    "    '#08306b', '#08519c', '#2171b5', '#4292c6',\n",
    "    '#6baed6', '#9ecae1', '#c6dbef', '#deebf7',\n",
    "    '#fee0d2', '#fcbba1', '#fc9272', '#fb6a4a',\n",
    "    '#ef3b2c', '#cb181d', '#a50f15', '#67000d',\n",
    "])"
   ]
  },
  {
   "cell_type": "code",
   "execution_count": 5,
   "metadata": {},
   "outputs": [
    {
     "data": {
      "text/plain": [
       "(1850, 2019)"
      ]
     },
     "execution_count": 5,
     "metadata": {},
     "output_type": "execute_result"
    },
    {
     "data": {
      "image/png": "[encoded data removed]",
      "text/plain": [
       "<Figure size 720x72 with 1 Axes>"
      ]
     },
     "metadata": {
      "needs_background": "light"
     },
     "output_type": "display_data"
    }
   ],
   "source": [
    "fig = plt.figure(figsize=(10, 1))\n",
    "\n",
    "ax = fig.add_axes([0, 0, 1, 1])\n",
    "ax.set_axis_off()\n",
    "\n",
    "# create a collection with a rectangle for each year\n",
    "col = PatchCollection([\n",
    "    Rectangle((y, 0), 1, 1)\n",
    "    for y in range(FIRST, LAST + 1)\n",
    "])\n",
    "\n",
    "# set data, colormap and color limits\n",
    "col.set_array(anomaly)\n",
    "col.set_cmap(cmap)\n",
    "col.set_clim(reference - LIM, reference + LIM)\n",
    "ax.add_collection(col)\n",
    "\n",
    "ax.set_ylim(0, 1)\n",
    "ax.set_xlim(FIRST, LAST + 1)"
   ]
  },
  {
   "cell_type": "code",
   "execution_count": 6,
   "metadata": {},
   "outputs": [],
   "source": [
    "fig.savefig('warming-stripes.png')"
   ]
  }
 ],
 "metadata": {
  "kernelspec": {
   "display_name": "Python 3",
   "language": "python",
   "name": "python3"
  },
  "language_info": {
   "codemirror_mode": {
    "name": "ipython",
    "version": 3
   },
   "file_extension": ".py",
   "mimetype": "text/x-python",
   "name": "python",
   "nbconvert_exporter": "python",
   "pygments_lexer": "ipython3",
   "version": "3.7.2"
  }
 },
 "nbformat": 4,
 "nbformat_minor": 2
}
