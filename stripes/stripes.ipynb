{
 "cells": [
  {
   "cell_type": "markdown",
   "metadata": {},
   "source": [
    "### Global warming stripes"
   ]
  },
  {
   "cell_type": "code",
   "execution_count": 1,
   "metadata": {},
   "outputs": [],
   "source": [
    "import matplotlib\n",
    "\n",
    "import pandas as pd\n",
    "import matplotlib.pyplot as plt\n",
    "\n",
    "from matplotlib.patches import Rectangle\n",
    "from matplotlib.collections import PatchCollection\n",
    "from matplotlib.colors import ListedColormap\n",
    "\n",
    "\n",
    "%matplotlib inline"
   ]
  },
  {
   "cell_type": "markdown",
   "metadata": {},
   "source": [
    "Following https://matplotlib.org/matplotblog/posts/warming-stripes/"
   ]
  },
  {
   "cell_type": "code",
   "execution_count": 2,
   "metadata": {},
   "outputs": [],
   "source": [
    "FIRST = 1850\n",
    "LAST = 2018  # inclusive\n",
    "\n",
    "# Reference period for the center of the color scale\n",
    "FIRST_REFERENCE = 1971\n",
    "LAST_REFERENCE = 2000\n",
    "LIM = 0.7 # degrees"
   ]
  },
  {
   "cell_type": "code",
   "execution_count": 3,
   "metadata": {},
   "outputs": [],
   "source": [
    "df = pd.read_fwf(\n",
    "    'HadCRUT.4.6.0.0.annual_ns_avg.txt',\n",
    "    index_col=0,\n",
    "    usecols=(0, 1),\n",
    "    names=['year', 'anomaly'],\n",
    "    header=None,\n",
    ")\n",
    "\n",
    "anomaly = df.loc[FIRST:LAST, 'anomaly'].dropna()\n",
    "reference = anomaly.loc[FIRST_REFERENCE:LAST_REFERENCE].mean()"
   ]
  },
  {
   "cell_type": "code",
   "execution_count": 4,
   "metadata": {},
   "outputs": [],
   "source": [
    "# the colors in this colormap come from http://colorbrewer2.org\n",
    "# the 8 more saturated colors from the 9 blues / 9 reds\n",
    "cmap = ListedColormap([\n",
    "    '#08306b', '#08519c', '#2171b5', '#4292c6',\n",
    "    '#6baed6', '#9ecae1', '#c6dbef', '#deebf7',\n",
    "    '#fee0d2', '#fcbba1', '#fc9272', '#fb6a4a',\n",
    "    '#ef3b2c', '#cb181d', '#a50f15', '#67000d',\n",
    "])"
   ]
  },
  {
   "cell_type": "code",
   "execution_count": 5,
   "metadata": {},
   "outputs": [
    {
     "data": {
      "text/plain": [
       "(1850, 2019)"
      ]
     },
     "execution_count": 5,
     "metadata": {},
     "output_type": "execute_result"
    },
    {
     "data": {
      "image/png": "[encoded data removed]",
      "text/plain": [
       "<Figure size 720x72 with 1 Axes>"
      ]
     },
     "metadata": {
      "needs_background": "light"
     },
     "output_type": "display_data"
    }
   ],
   "source": [
    "fig = plt.figure(figsize=(10, 1))\n",
    "\n",
    "ax = fig.add_axes([0, 0, 1, 1])\n",
    "ax.set_axis_off()\n",
    "\n",
    "# create a collection with a rectangle for each year\n",
    "col = PatchCollection([\n",
    "    Rectangle((y, 0), 1, 1)\n",
    "    for y in range(FIRST, LAST + 1)\n",
    "])\n",
    "\n",
    "# set data, colormap and color limits\n",
    "col.set_array(anomaly)\n",
    "col.set_cmap(cmap)\n",
    "col.set_clim(reference - LIM, reference + LIM)\n",
    "ax.add_collection(col)\n",
    "\n",
    "ax.set_ylim(0, 1)\n",
    "ax.set_xlim(FIRST, LAST + 1)"
   ]
  },
  {
   "cell_type": "code",
   "execution_count": 6,
   "metadata": {},
   "outputs": [],
   "source": [
    "fig.savefig('warming-stripes.png')"
   ]
  },
  {
   "cell_type": "code",
   "execution_count": 7,
   "metadata": {},
   "outputs": [],
   "source": [
    "years = list(range(FIRST, LAST + 1))\n",
    "rgb = [(int(r), int(g), int(b)) for (r,g,b) in [tuple(c[:3]) for c in col.to_rgba(anomaly)*255]]"
   ]
  },
  {
   "cell_type": "markdown",
   "metadata": {},
   "source": [
    "RGB colors per year"
   ]
  },
  {
   "cell_type": "code",
   "execution_count": 8,
   "metadata": {
    "scrolled": false
   },
   "outputs": [
    {
     "data": {
      "text/plain": [
       "[(1850, (33, 113, 181), '#2171b5'),\n",
       " (1851, (107, 174, 214), '#6baed6'),\n",
       " (1852, (107, 174, 214), '#6baed6'),\n",
       " (1853, (66, 146, 198), '#4292c6'),\n",
       " (1854, (66, 146, 198), '#4292c6'),\n",
       " (1855, (66, 146, 198), '#4292c6'),\n",
       " (1856, (33, 113, 181), '#2171b5'),\n",
       " (1857, (8, 81, 156), '#08519c'),\n",
       " (1858, (8, 81, 156), '#08519c'),\n",
       " (1859, (66, 146, 198), '#4292c6'),\n",
       " (1860, (33, 113, 181), '#2171b5'),\n",
       " (1861, (33, 113, 181), '#2171b5'),\n",
       " (1862, (8, 48, 107), '#08306b'),\n",
       " (1863, (66, 146, 198), '#4292c6'),\n",
       " (1864, (8, 81, 156), '#08519c'),\n",
       " (1865, (66, 146, 198), '#4292c6'),\n",
       " (1866, (66, 146, 198), '#4292c6'),\n",
       " (1867, (66, 146, 198), '#4292c6'),\n",
       " (1868, (107, 174, 214), '#6baed6'),\n",
       " (1869, (66, 146, 198), '#4292c6'),\n",
       " (1870, (66, 146, 198), '#4292c6'),\n",
       " (1871, (33, 113, 181), '#2171b5'),\n",
       " (1872, (107, 174, 214), '#6baed6'),\n",
       " (1873, (66, 146, 198), '#4292c6'),\n",
       " (1874, (33, 113, 181), '#2171b5'),\n",
       " (1875, (33, 113, 181), '#2171b5'),\n",
       " (1876, (33, 113, 181), '#2171b5'),\n",
       " (1877, (158, 202, 225), '#9ecae1'),\n",
       " (1878, (222, 235, 247), '#deebf7'),\n",
       " (1879, (107, 174, 214), '#6baed6'),\n",
       " (1880, (107, 174, 214), '#6baed6'),\n",
       " (1881, (107, 174, 214), '#6baed6'),\n",
       " (1882, (107, 174, 214), '#6baed6'),\n",
       " (1883, (66, 146, 198), '#4292c6'),\n",
       " (1884, (33, 113, 181), '#2171b5'),\n",
       " (1885, (33, 113, 181), '#2171b5'),\n",
       " (1886, (33, 113, 181), '#2171b5'),\n",
       " (1887, (8, 81, 156), '#08519c'),\n",
       " (1888, (66, 146, 198), '#4292c6'),\n",
       " (1889, (107, 174, 214), '#6baed6'),\n",
       " (1890, (33, 113, 181), '#2171b5'),\n",
       " (1891, (33, 113, 181), '#2171b5'),\n",
       " (1892, (8, 81, 156), '#08519c'),\n",
       " (1893, (8, 81, 156), '#08519c'),\n",
       " (1894, (33, 113, 181), '#2171b5'),\n",
       " (1895, (33, 113, 181), '#2171b5'),\n",
       " (1896, (107, 174, 214), '#6baed6'),\n",
       " (1897, (107, 174, 214), '#6baed6'),\n",
       " (1898, (33, 113, 181), '#2171b5'),\n",
       " (1899, (66, 146, 198), '#4292c6'),\n",
       " (1900, (107, 174, 214), '#6baed6'),\n",
       " (1901, (66, 146, 198), '#4292c6'),\n",
       " (1902, (33, 113, 181), '#2171b5'),\n",
       " (1903, (8, 81, 156), '#08519c'),\n",
       " (1904, (8, 48, 107), '#08306b'),\n",
       " (1905, (33, 113, 181), '#2171b5'),\n",
       " (1906, (66, 146, 198), '#4292c6'),\n",
       " (1907, (8, 81, 156), '#08519c'),\n",
       " (1908, (8, 48, 107), '#08306b'),\n",
       " (1909, (8, 48, 107), '#08306b'),\n",
       " (1910, (8, 81, 156), '#08519c'),\n",
       " (1911, (8, 48, 107), '#08306b'),\n",
       " (1912, (8, 81, 156), '#08519c'),\n",
       " (1913, (8, 81, 156), '#08519c'),\n",
       " (1914, (66, 146, 198), '#4292c6'),\n",
       " (1915, (158, 202, 225), '#9ecae1'),\n",
       " (1916, (33, 113, 181), '#2171b5'),\n",
       " (1917, (8, 81, 156), '#08519c'),\n",
       " (1918, (33, 113, 181), '#2171b5'),\n",
       " (1919, (66, 146, 198), '#4292c6'),\n",
       " (1920, (66, 146, 198), '#4292c6'),\n",
       " (1921, (107, 174, 214), '#6baed6'),\n",
       " (1922, (66, 146, 198), '#4292c6'),\n",
       " (1923, (66, 146, 198), '#4292c6'),\n",
       " (1924, (66, 146, 198), '#4292c6'),\n",
       " (1925, (107, 174, 214), '#6baed6'),\n",
       " (1926, (158, 202, 225), '#9ecae1'),\n",
       " (1927, (107, 174, 214), '#6baed6'),\n",
       " (1928, (107, 174, 214), '#6baed6'),\n",
       " (1929, (33, 113, 181), '#2171b5'),\n",
       " (1930, (158, 202, 225), '#9ecae1'),\n",
       " (1931, (158, 202, 225), '#9ecae1'),\n",
       " (1932, (158, 202, 225), '#9ecae1'),\n",
       " (1933, (66, 146, 198), '#4292c6'),\n",
       " (1934, (158, 202, 225), '#9ecae1'),\n",
       " (1935, (107, 174, 214), '#6baed6'),\n",
       " (1936, (158, 202, 225), '#9ecae1'),\n",
       " (1937, (198, 219, 239), '#c6dbef'),\n",
       " (1938, (198, 219, 239), '#c6dbef'),\n",
       " (1939, (198, 219, 239), '#c6dbef'),\n",
       " (1940, (198, 219, 239), '#c6dbef'),\n",
       " (1941, (198, 219, 239), '#c6dbef'),\n",
       " (1942, (198, 219, 239), '#c6dbef'),\n",
       " (1943, (198, 219, 239), '#c6dbef'),\n",
       " (1944, (254, 224, 210), '#fee0d2'),\n",
       " (1945, (222, 235, 247), '#deebf7'),\n",
       " (1946, (158, 202, 225), '#9ecae1'),\n",
       " (1947, (198, 219, 239), '#c6dbef'),\n",
       " (1948, (198, 219, 239), '#c6dbef'),\n",
       " (1949, (158, 202, 225), '#9ecae1'),\n",
       " (1950, (107, 174, 214), '#6baed6'),\n",
       " (1951, (198, 219, 239), '#c6dbef'),\n",
       " (1952, (222, 235, 247), '#deebf7'),\n",
       " (1953, (222, 235, 247), '#deebf7'),\n",
       " (1954, (158, 202, 225), '#9ecae1'),\n",
       " (1955, (107, 174, 214), '#6baed6'),\n",
       " (1956, (66, 146, 198), '#4292c6'),\n",
       " (1957, (198, 219, 239), '#c6dbef'),\n",
       " (1958, (222, 235, 247), '#deebf7'),\n",
       " (1959, (198, 219, 239), '#c6dbef'),\n",
       " (1960, (198, 219, 239), '#c6dbef'),\n",
       " (1961, (222, 235, 247), '#deebf7'),\n",
       " (1962, (198, 219, 239), '#c6dbef'),\n",
       " (1963, (222, 235, 247), '#deebf7'),\n",
       " (1964, (107, 174, 214), '#6baed6'),\n",
       " (1965, (158, 202, 225), '#9ecae1'),\n",
       " (1966, (158, 202, 225), '#9ecae1'),\n",
       " (1967, (158, 202, 225), '#9ecae1'),\n",
       " (1968, (158, 202, 225), '#9ecae1'),\n",
       " (1969, (222, 235, 247), '#deebf7'),\n",
       " (1970, (198, 219, 239), '#c6dbef'),\n",
       " (1971, (107, 174, 214), '#6baed6'),\n",
       " (1972, (198, 219, 239), '#c6dbef'),\n",
       " (1973, (222, 235, 247), '#deebf7'),\n",
       " (1974, (107, 174, 214), '#6baed6'),\n",
       " (1975, (158, 202, 225), '#9ecae1'),\n",
       " (1976, (107, 174, 214), '#6baed6'),\n",
       " (1977, (222, 235, 247), '#deebf7'),\n",
       " (1978, (198, 219, 239), '#c6dbef'),\n",
       " (1979, (222, 235, 247), '#deebf7'),\n",
       " (1980, (222, 235, 247), '#deebf7'),\n",
       " (1981, (254, 224, 210), '#fee0d2'),\n",
       " (1982, (198, 219, 239), '#c6dbef'),\n",
       " (1983, (254, 224, 210), '#fee0d2'),\n",
       " (1984, (198, 219, 239), '#c6dbef'),\n",
       " (1985, (198, 219, 239), '#c6dbef'),\n",
       " (1986, (222, 235, 247), '#deebf7'),\n",
       " (1987, (254, 224, 210), '#fee0d2'),\n",
       " (1988, (252, 187, 161), '#fcbba1'),\n",
       " (1989, (254, 224, 210), '#fee0d2'),\n",
       " (1990, (252, 146, 114), '#fc9272'),\n",
       " (1991, (252, 187, 161), '#fcbba1'),\n",
       " (1992, (222, 235, 247), '#deebf7'),\n",
       " (1993, (254, 224, 210), '#fee0d2'),\n",
       " (1994, (252, 187, 161), '#fcbba1'),\n",
       " (1995, (252, 146, 114), '#fc9272'),\n",
       " (1996, (254, 224, 210), '#fee0d2'),\n",
       " (1997, (251, 106, 74), '#fb6a4a'),\n",
       " (1998, (239, 59, 44), '#ef3b2c'),\n",
       " (1999, (252, 146, 114), '#fc9272'),\n",
       " (2000, (252, 146, 114), '#fc9272'),\n",
       " (2001, (251, 106, 74), '#fb6a4a'),\n",
       " (2002, (239, 59, 44), '#ef3b2c'),\n",
       " (2003, (239, 59, 44), '#ef3b2c'),\n",
       " (2004, (251, 106, 74), '#fb6a4a'),\n",
       " (2005, (239, 59, 44), '#ef3b2c'),\n",
       " (2006, (239, 59, 44), '#ef3b2c'),\n",
       " (2007, (239, 59, 44), '#ef3b2c'),\n",
       " (2008, (251, 106, 74), '#fb6a4a'),\n",
       " (2009, (239, 59, 44), '#ef3b2c'),\n",
       " (2010, (203, 24, 29), '#cb181d'),\n",
       " (2011, (251, 106, 74), '#fb6a4a'),\n",
       " (2012, (239, 59, 44), '#ef3b2c'),\n",
       " (2013, (239, 59, 44), '#ef3b2c'),\n",
       " (2014, (203, 24, 29), '#cb181d'),\n",
       " (2015, (103, 0, 13), '#67000d'),\n",
       " (2016, (103, 0, 13), '#67000d'),\n",
       " (2017, (165, 15, 21), '#a50f15'),\n",
       " (2018, (203, 24, 29), '#cb181d')]"
      ]
     },
     "execution_count": 8,
     "metadata": {},
     "output_type": "execute_result"
    }
   ],
   "source": [
    "list(zip(years, rgb, ['#%02x%02x%02x' % t for t in rgb]))"
   ]
  },
  {
   "cell_type": "code",
   "execution_count": null,
   "metadata": {},
   "outputs": [],
   "source": []
  }
 ],
 "metadata": {
  "kernelspec": {
   "display_name": "Python 3",
   "language": "python",
   "name": "python3"
  },
  "language_info": {
   "codemirror_mode": {
    "name": "ipython",
    "version": 3
   },
   "file_extension": ".py",
   "mimetype": "text/x-python",
   "name": "python",
   "nbconvert_exporter": "python",
   "pygments_lexer": "ipython3",
   "version": "3.7.2"
  }
 },
 "nbformat": 4,
 "nbformat_minor": 2
}
