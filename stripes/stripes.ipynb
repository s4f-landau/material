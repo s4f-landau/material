{
 "cells": [
  {
   "cell_type": "markdown",
   "metadata": {},
   "source": [
    "### Global warming stripes"
   ]
  },
  {
   "cell_type": "code",
   "execution_count": 1,
   "metadata": {},
   "outputs": [],
   "source": [
    "import matplotlib\n",
    "\n",
    "import pandas as pd\n",
    "import matplotlib.pyplot as plt\n",
    "\n",
    "from matplotlib.patches import Rectangle\n",
    "from matplotlib.collections import PatchCollection\n",
    "from matplotlib.colors import ListedColormap\n",
    "\n",
    "\n",
    "%matplotlib inline"
   ]
  },
  {
   "cell_type": "markdown",
   "metadata": {},
   "source": [
    "Following https://matplotlib.org/matplotblog/posts/warming-stripes/"
   ]
  },
  {
   "cell_type": "code",
   "execution_count": 2,
   "metadata": {},
   "outputs": [],
   "source": [
    "FIRST = 1850\n",
    "LAST = 2018  # inclusive\n",
    "\n",
    "# Reference period for the center of the color scale\n",
    "FIRST_REFERENCE = 1971\n",
    "LAST_REFERENCE = 2000\n",
    "LIM = 0.7 # degrees"
   ]
  },
  {
   "cell_type": "code",
   "execution_count": 3,
   "metadata": {},
   "outputs": [],
   "source": [
    "df = pd.read_fwf(\n",
    "    'HadCRUT.4.6.0.0.annual_ns_avg.txt',\n",
    "    index_col=0,\n",
    "    usecols=(0, 1),\n",
    "    names=['year', 'anomaly'],\n",
    "    header=None,\n",
    ")\n",
    "\n",
    "anomaly = df.loc[FIRST:LAST, 'anomaly'].dropna()\n",
    "reference = anomaly.loc[FIRST_REFERENCE:LAST_REFERENCE].mean()"
   ]
  },
  {
   "cell_type": "code",
   "execution_count": 4,
   "metadata": {},
   "outputs": [],
   "source": [
    "# the colors in this colormap come from http://colorbrewer2.org\n",
    "# the 8 more saturated colors from the 9 blues / 9 reds\n",
    "cmap = ListedColormap([\n",
    "    '#08306b', '#08519c', '#2171b5', '#4292c6',\n",
    "    '#6baed6', '#9ecae1', '#c6dbef', '#deebf7',\n",
    "    '#fee0d2', '#fcbba1', '#fc9272', '#fb6a4a',\n",
    "    '#ef3b2c', '#cb181d', '#a50f15', '#67000d',\n",
    "])"
   ]
  },
  {
   "cell_type": "code",
   "execution_count": 5,
   "metadata": {},
   "outputs": [
    {
     "data": {
      "text/plain": [
       "(1850, 2019)"
      ]
     },
     "execution_count": 5,
     "metadata": {},
     "output_type": "execute_result"
    },
    {
     "data": {
      "image/png": "[encoded data removed]",
      "text/plain": [
       "<Figure size 720x72 with 1 Axes>"
      ]
     },
     "metadata": {
      "needs_background": "light"
     },
     "output_type": "display_data"
    }
   ],
   "source": [
    "fig = plt.figure(figsize=(10, 1))\n",
    "\n",
    "ax = fig.add_axes([0, 0, 1, 1])\n",
    "ax.set_axis_off()\n",
    "\n",
    "# create a collection with a rectangle for each year\n",
    "col = PatchCollection([\n",
    "    Rectangle((y, 0), 1, 1)\n",
    "    for y in range(FIRST, LAST + 1)\n",
    "])\n",
    "\n",
    "# set data, colormap and color limits\n",
    "col.set_array(anomaly)\n",
    "col.set_cmap(cmap)\n",
    "col.set_clim(reference - LIM, reference + LIM)\n",
    "ax.add_collection(col)\n",
    "\n",
    "ax.set_ylim(0, 1)\n",
    "ax.set_xlim(FIRST, LAST + 1)"
   ]
  },
  {
   "cell_type": "code",
   "execution_count": 6,
   "metadata": {},
   "outputs": [],
   "source": [
    "fig.savefig('warming-stripes.png')"
   ]
  },
  {
   "cell_type": "code",
   "execution_count": 7,
   "metadata": {},
   "outputs": [],
   "source": [
    "years = list(range(FIRST, LAST + 1))\n",
    "rgb = ['#%02x%02x%02x' % (int(r), int(g), int(b)) for (r,g,b) in [tuple(c[:3]) for c in col.to_rgba(anomaly)*255]]"
   ]
  },
  {
   "cell_type": "markdown",
   "metadata": {},
   "source": [
    "RGB colors as hex numbers per year"
   ]
  },
  {
   "cell_type": "code",
   "execution_count": 8,
   "metadata": {
    "scrolled": false
   },
   "outputs": [
    {
     "data": {
      "text/plain": [
       "[(1850, '#2171b5'),\n",
       " (1851, '#6baed6'),\n",
       " (1852, '#6baed6'),\n",
       " (1853, '#4292c6'),\n",
       " (1854, '#4292c6'),\n",
       " (1855, '#4292c6'),\n",
       " (1856, '#2171b5'),\n",
       " (1857, '#08519c'),\n",
       " (1858, '#08519c'),\n",
       " (1859, '#4292c6'),\n",
       " (1860, '#2171b5'),\n",
       " (1861, '#2171b5'),\n",
       " (1862, '#08306b'),\n",
       " (1863, '#4292c6'),\n",
       " (1864, '#08519c'),\n",
       " (1865, '#4292c6'),\n",
       " (1866, '#4292c6'),\n",
       " (1867, '#4292c6'),\n",
       " (1868, '#6baed6'),\n",
       " (1869, '#4292c6'),\n",
       " (1870, '#4292c6'),\n",
       " (1871, '#2171b5'),\n",
       " (1872, '#6baed6'),\n",
       " (1873, '#4292c6'),\n",
       " (1874, '#2171b5'),\n",
       " (1875, '#2171b5'),\n",
       " (1876, '#2171b5'),\n",
       " (1877, '#9ecae1'),\n",
       " (1878, '#deebf7'),\n",
       " (1879, '#6baed6'),\n",
       " (1880, '#6baed6'),\n",
       " (1881, '#6baed6'),\n",
       " (1882, '#6baed6'),\n",
       " (1883, '#4292c6'),\n",
       " (1884, '#2171b5'),\n",
       " (1885, '#2171b5'),\n",
       " (1886, '#2171b5'),\n",
       " (1887, '#08519c'),\n",
       " (1888, '#4292c6'),\n",
       " (1889, '#6baed6'),\n",
       " (1890, '#2171b5'),\n",
       " (1891, '#2171b5'),\n",
       " (1892, '#08519c'),\n",
       " (1893, '#08519c'),\n",
       " (1894, '#2171b5'),\n",
       " (1895, '#2171b5'),\n",
       " (1896, '#6baed6'),\n",
       " (1897, '#6baed6'),\n",
       " (1898, '#2171b5'),\n",
       " (1899, '#4292c6'),\n",
       " (1900, '#6baed6'),\n",
       " (1901, '#4292c6'),\n",
       " (1902, '#2171b5'),\n",
       " (1903, '#08519c'),\n",
       " (1904, '#08306b'),\n",
       " (1905, '#2171b5'),\n",
       " (1906, '#4292c6'),\n",
       " (1907, '#08519c'),\n",
       " (1908, '#08306b'),\n",
       " (1909, '#08306b'),\n",
       " (1910, '#08519c'),\n",
       " (1911, '#08306b'),\n",
       " (1912, '#08519c'),\n",
       " (1913, '#08519c'),\n",
       " (1914, '#4292c6'),\n",
       " (1915, '#9ecae1'),\n",
       " (1916, '#2171b5'),\n",
       " (1917, '#08519c'),\n",
       " (1918, '#2171b5'),\n",
       " (1919, '#4292c6'),\n",
       " (1920, '#4292c6'),\n",
       " (1921, '#6baed6'),\n",
       " (1922, '#4292c6'),\n",
       " (1923, '#4292c6'),\n",
       " (1924, '#4292c6'),\n",
       " (1925, '#6baed6'),\n",
       " (1926, '#9ecae1'),\n",
       " (1927, '#6baed6'),\n",
       " (1928, '#6baed6'),\n",
       " (1929, '#2171b5'),\n",
       " (1930, '#9ecae1'),\n",
       " (1931, '#9ecae1'),\n",
       " (1932, '#9ecae1'),\n",
       " (1933, '#4292c6'),\n",
       " (1934, '#9ecae1'),\n",
       " (1935, '#6baed6'),\n",
       " (1936, '#9ecae1'),\n",
       " (1937, '#c6dbef'),\n",
       " (1938, '#c6dbef'),\n",
       " (1939, '#c6dbef'),\n",
       " (1940, '#c6dbef'),\n",
       " (1941, '#c6dbef'),\n",
       " (1942, '#c6dbef'),\n",
       " (1943, '#c6dbef'),\n",
       " (1944, '#fee0d2'),\n",
       " (1945, '#deebf7'),\n",
       " (1946, '#9ecae1'),\n",
       " (1947, '#c6dbef'),\n",
       " (1948, '#c6dbef'),\n",
       " (1949, '#9ecae1'),\n",
       " (1950, '#6baed6'),\n",
       " (1951, '#c6dbef'),\n",
       " (1952, '#deebf7'),\n",
       " (1953, '#deebf7'),\n",
       " (1954, '#9ecae1'),\n",
       " (1955, '#6baed6'),\n",
       " (1956, '#4292c6'),\n",
       " (1957, '#c6dbef'),\n",
       " (1958, '#deebf7'),\n",
       " (1959, '#c6dbef'),\n",
       " (1960, '#c6dbef'),\n",
       " (1961, '#deebf7'),\n",
       " (1962, '#c6dbef'),\n",
       " (1963, '#deebf7'),\n",
       " (1964, '#6baed6'),\n",
       " (1965, '#9ecae1'),\n",
       " (1966, '#9ecae1'),\n",
       " (1967, '#9ecae1'),\n",
       " (1968, '#9ecae1'),\n",
       " (1969, '#deebf7'),\n",
       " (1970, '#c6dbef'),\n",
       " (1971, '#6baed6'),\n",
       " (1972, '#c6dbef'),\n",
       " (1973, '#deebf7'),\n",
       " (1974, '#6baed6'),\n",
       " (1975, '#9ecae1'),\n",
       " (1976, '#6baed6'),\n",
       " (1977, '#deebf7'),\n",
       " (1978, '#c6dbef'),\n",
       " (1979, '#deebf7'),\n",
       " (1980, '#deebf7'),\n",
       " (1981, '#fee0d2'),\n",
       " (1982, '#c6dbef'),\n",
       " (1983, '#fee0d2'),\n",
       " (1984, '#c6dbef'),\n",
       " (1985, '#c6dbef'),\n",
       " (1986, '#deebf7'),\n",
       " (1987, '#fee0d2'),\n",
       " (1988, '#fcbba1'),\n",
       " (1989, '#fee0d2'),\n",
       " (1990, '#fc9272'),\n",
       " (1991, '#fcbba1'),\n",
       " (1992, '#deebf7'),\n",
       " (1993, '#fee0d2'),\n",
       " (1994, '#fcbba1'),\n",
       " (1995, '#fc9272'),\n",
       " (1996, '#fee0d2'),\n",
       " (1997, '#fb6a4a'),\n",
       " (1998, '#ef3b2c'),\n",
       " (1999, '#fc9272'),\n",
       " (2000, '#fc9272'),\n",
       " (2001, '#fb6a4a'),\n",
       " (2002, '#ef3b2c'),\n",
       " (2003, '#ef3b2c'),\n",
       " (2004, '#fb6a4a'),\n",
       " (2005, '#ef3b2c'),\n",
       " (2006, '#ef3b2c'),\n",
       " (2007, '#ef3b2c'),\n",
       " (2008, '#fb6a4a'),\n",
       " (2009, '#ef3b2c'),\n",
       " (2010, '#cb181d'),\n",
       " (2011, '#fb6a4a'),\n",
       " (2012, '#ef3b2c'),\n",
       " (2013, '#ef3b2c'),\n",
       " (2014, '#cb181d'),\n",
       " (2015, '#67000d'),\n",
       " (2016, '#67000d'),\n",
       " (2017, '#a50f15'),\n",
       " (2018, '#cb181d')]"
      ]
     },
     "execution_count": 8,
     "metadata": {},
     "output_type": "execute_result"
    }
   ],
   "source": [
    "list(zip(years, rgb))"
   ]
  }
 ],
 "metadata": {
  "kernelspec": {
   "display_name": "Python 3",
   "language": "python",
   "name": "python3"
  },
  "language_info": {
   "codemirror_mode": {
    "name": "ipython",
    "version": 3
   },
   "file_extension": ".py",
   "mimetype": "text/x-python",
   "name": "python",
   "nbconvert_exporter": "python",
   "pygments_lexer": "ipython3",
   "version": "3.7.2"
  }
 },
 "nbformat": 4,
 "nbformat_minor": 2
}
